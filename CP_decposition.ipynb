{
  "nbformat": 4,
  "nbformat_minor": 0,
  "metadata": {
    "colab": {
      "provenance": [],
      "authorship_tag": "ABX9TyNGB0cXaByIjScknjhYSC6z",
      "include_colab_link": true
    },
    "kernelspec": {
      "name": "python3",
      "display_name": "Python 3"
    },
    "language_info": {
      "name": "python"
    }
  },
  "cells": [
    {
      "cell_type": "markdown",
      "metadata": {
        "id": "view-in-github",
        "colab_type": "text"
      },
      "source": [
        "<a href=\"https://colab.research.google.com/github/Yashmitha22/ML_projects/blob/main/CP_decposition.ipynb\" target=\"_parent\"><img src=\"https://colab.research.google.com/assets/colab-badge.svg\" alt=\"Open In Colab\"/></a>"
      ]
    },
    {
      "cell_type": "code",
      "execution_count": 3,
      "metadata": {
        "colab": {
          "base_uri": "https://localhost:8080/"
        },
        "id": "3UzDxFiRFeXj",
        "outputId": "951a9a52-d0cb-4cd5-8e91-0281705fd3ce"
      },
      "outputs": [
        {
          "output_type": "stream",
          "name": "stdout",
          "text": [
            "Collecting tensorly\n",
            "  Downloading tensorly-0.9.0-py3-none-any.whl.metadata (8.6 kB)\n",
            "Requirement already satisfied: numpy in /usr/local/lib/python3.12/dist-packages (from tensorly) (2.0.2)\n",
            "Requirement already satisfied: scipy in /usr/local/lib/python3.12/dist-packages (from tensorly) (1.16.1)\n",
            "Downloading tensorly-0.9.0-py3-none-any.whl (7.4 MB)\n",
            "\u001b[2K   \u001b[90m━━━━━━━━━━━━━━━━━━━━━━━━━━━━━━━━━━━━━━━━\u001b[0m \u001b[32m7.4/7.4 MB\u001b[0m \u001b[31m70.4 MB/s\u001b[0m eta \u001b[36m0:00:00\u001b[0m\n",
            "\u001b[?25hInstalling collected packages: tensorly\n",
            "Successfully installed tensorly-0.9.0\n"
          ]
        }
      ],
      "source": [
        "!pip install tensorly"
      ]
    },
    {
      "cell_type": "code",
      "source": [
        "#import the necessary module\n",
        "import numpy as np\n",
        "import tensorly as tl\n",
        "from tensorly.decomposition import parafac"
      ],
      "metadata": {
        "id": "XcjnIgi0GNgG"
      },
      "execution_count": 5,
      "outputs": []
    },
    {
      "cell_type": "code",
      "source": [
        "#create the synthetic tensor\n",
        "num_users, num_items, num_contexts = 10, 15, 2\n",
        "tensor = tl.tensor(np.random.rand(num_users, num_items, num_contexts))\n",
        "\n",
        "#create some missing value\n",
        "mask = np.random.rand(num_users, num_items, num_contexts) > 0.3\n",
        "tensor[~mask] = np.nan"
      ],
      "metadata": {
        "id": "Q9MtLH-4GnuG"
      },
      "execution_count": 6,
      "outputs": []
    },
    {
      "cell_type": "code",
      "source": [
        "#Apply the CP decomposition\n",
        "rank = 3\n",
        "weights, factors = parafac(tensor, rank=rank, init='random', mask=mask)\n",
        "\n",
        "#factor matrices\n",
        "user_factors = factors[0]\n",
        "item_factors = factors[1]\n",
        "context_factors = factors[2]\n",
        "\n",
        "print(f\"User factors shape: {user_factors.shape}\")\n",
        "print(f\"Item factors shape: {item_factors.shape}\")\n",
        "print(f\"Context factors shape:{context_factors.shape}\")"
      ],
      "metadata": {
        "colab": {
          "base_uri": "https://localhost:8080/"
        },
        "id": "fMBfpVa7HbKJ",
        "outputId": "a0cd3b8c-df4f-4a89-eec2-4837201ada62"
      },
      "execution_count": 8,
      "outputs": [
        {
          "output_type": "stream",
          "name": "stdout",
          "text": [
            "User factors shape: (10, 3)\n",
            "Item factors shape: (15, 3)\n",
            "Context factors shape:(2, 3)\n"
          ]
        }
      ]
    },
    {
      "cell_type": "code",
      "source": [
        "#Reconstruct the full tensor to predict the missing rate\n",
        "reconstructed_tensor = tl.cp_to_tensor((weights, factors))"
      ],
      "metadata": {
        "id": "HvqViEuBINgO"
      },
      "execution_count": 9,
      "outputs": []
    },
    {
      "cell_type": "code",
      "source": [
        "#Predict the missing rating\n",
        "missing_indices = np.argwhere(np.isnan(tensor))\n",
        "if len(missing_indices) > 0:\n",
        "  user_idx, item_idx, context_idx = missing_indices[0]\n",
        "\n",
        "  original_value = 'Missing (Nan)'\n",
        "  predicted_rating = reconstructed_tensor[user_idx, item_idx, context_idx]\n",
        "\n",
        "  print(f\"\\n---Prediction Example----\")\n",
        "  print(f\"Rating for user {user_idx}, Item{item_idx}, in Context {context_idx}:\")\n",
        "  print(f\"Original Value : {original_value}\")\n",
        "  print(f\"Predicted Value: {predicted_rating}:.2f\")\n",
        "\n",
        "else:\n",
        "  print(\"No missing values in the tensor.\")"
      ],
      "metadata": {
        "colab": {
          "base_uri": "https://localhost:8080/"
        },
        "id": "kbl9Dq6eus8m",
        "outputId": "af313261-ae55-488b-8591-cc77b8029a96"
      },
      "execution_count": 11,
      "outputs": [
        {
          "output_type": "stream",
          "name": "stdout",
          "text": [
            "\n",
            "---Prediction Example----\n",
            "Rating for user 0, Item1, in Context 1:\n",
            "Original Value : Missing (Nan)\n",
            "Predicted Value: nan:.2f\n"
          ]
        }
      ]
    },
    {
      "cell_type": "code",
      "source": [],
      "metadata": {
        "id": "Hnqm8dMtxT7u"
      },
      "execution_count": null,
      "outputs": []
    }
  ]
}