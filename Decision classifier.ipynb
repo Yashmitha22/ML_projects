{
  "nbformat": 4,
  "nbformat_minor": 0,
  "metadata": {
    "colab": {
      "provenance": [],
      "authorship_tag": "ABX9TyNkutzcTrOIue1ssqt2kYGQ",
      "include_colab_link": true
    },
    "kernelspec": {
      "name": "python3",
      "display_name": "Python 3"
    },
    "language_info": {
      "name": "python"
    }
  },
  "cells": [
    {
      "cell_type": "markdown",
      "metadata": {
        "id": "view-in-github",
        "colab_type": "text"
      },
      "source": [
        "<a href=\"https://colab.research.google.com/github/Yashmitha22/ML_projects/blob/main/Decision%20classifier.ipynb\" target=\"_parent\"><img src=\"https://colab.research.google.com/assets/colab-badge.svg\" alt=\"Open In Colab\"/></a>"
      ]
    },
    {
      "cell_type": "code",
      "execution_count": 1,
      "metadata": {
        "colab": {
          "base_uri": "https://localhost:8080/"
        },
        "id": "jLRHYdleKSwD",
        "outputId": "6c5d1a18-33eb-4316-9ba5-0f4e376e8b3a"
      },
      "outputs": [
        {
          "output_type": "stream",
          "name": "stdout",
          "text": [
            "Model trained successfully!\n",
            "Model Accuracy: 100.00%\n",
            "\n",
            "Predicting species for new flower with measurements [5.1, 3.5, 1.4, 0.2]...\n",
            "--> The new flower is predicted to be: setosa\n"
          ]
        }
      ],
      "source": [
        "from sklearn.datasets import load_iris\n",
        "from sklearn.model_selection import train_test_split\n",
        "from sklearn.tree import DecisionTreeClassifier\n",
        "from sklearn.metrics import accuracy_score\n",
        "\n",
        "iris = load_iris()\n",
        "X = iris.data  # Features\n",
        "y = iris.target # Target\n",
        "\n",
        "X_train, X_test, y_train, y_test = train_test_split(X, y, test_size=0.2, random_state=42)\n",
        "\n",
        "model = DecisionTreeClassifier()\n",
        "model.fit(X_train, y_train)\n",
        "print(\"Model trained successfully!\")\n",
        "\n",
        "predictions = model.predict(X_test)\n",
        "accuracy = accuracy_score(y_test, predictions)\n",
        "print(f\"Model Accuracy: {accuracy * 100:.2f}%\")\n",
        "\n",
        "new_flower = [[5.1, 3.5, 1.4, 0.2]] # This looks like a setosa\n",
        "prediction_result = model.predict(new_flower)\n",
        "predicted_species_name = iris.target_names[prediction_result[0]]\n",
        "\n",
        "print(f\"\\nPredicting species for new flower with measurements {new_flower[0]}...\")\n",
        "print(f\"--> The new flower is predicted to be: {predicted_species_name}\")"
      ]
    },
    {
      "cell_type": "code",
      "source": [],
      "metadata": {
        "id": "u7UghcGDLeMc"
      },
      "execution_count": null,
      "outputs": []
    }
  ]
}