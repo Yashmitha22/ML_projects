{
  "nbformat": 4,
  "nbformat_minor": 0,
  "metadata": {
    "colab": {
      "provenance": [],
      "authorship_tag": "ABX9TyPzDg2iQqauRTEIvP9dqba+",
      "include_colab_link": true
    },
    "kernelspec": {
      "name": "python3",
      "display_name": "Python 3"
    },
    "language_info": {
      "name": "python"
    }
  },
  "cells": [
    {
      "cell_type": "markdown",
      "metadata": {
        "id": "view-in-github",
        "colab_type": "text"
      },
      "source": [
        "<a href=\"https://colab.research.google.com/github/Yashmitha22/ML_projects/blob/main/Random_forest.ipynb\" target=\"_parent\"><img src=\"https://colab.research.google.com/assets/colab-badge.svg\" alt=\"Open In Colab\"/></a>"
      ]
    },
    {
      "cell_type": "code",
      "execution_count": 5,
      "metadata": {
        "id": "1kfer5SBBwIs"
      },
      "outputs": [],
      "source": [
        "import pandas as pd\n",
        "from sklearn.model_selection import train_test_split\n",
        "from sklearn.ensemble import RandomForestClassifier\n",
        "from sklearn.metrics import accuracy_score, confusion_matrix\n",
        "import seaborn as sns\n",
        "import matplotlib.pyplot as plt"
      ]
    },
    {
      "cell_type": "code",
      "source": [
        "#creating the sample dataset of customer data\n",
        "data = {\n",
        "    'TenureMonths' : [ 12, 24, 5, 48, 1, 60, 8, 36, 15, 2],\n",
        "    'MonthlyBill' : [50, 80, 20, 100, 25, 110, 30, 90, 60, 22],\n",
        "    'SupportCalls' : [1, 0, 5, 1, 6, 0, 2, 1, 3, 4],\n",
        "    'Churn' : [ 0, 0, 1, 0, 1, 0, 1, 0, 0, 1] #0 = No churn and 1=Churn\n",
        "}\n",
        "df = pd.DataFrame(data)\n",
        "\n",
        "print(\"--Sample customer data--\")\n",
        "print(df)\n",
        "print(\"\\n\")"
      ],
      "metadata": {
        "colab": {
          "base_uri": "https://localhost:8080/"
        },
        "id": "rd0r1_UrCieq",
        "outputId": "6b8f2dcc-7b21-45ea-925c-08e0aeae3bd7"
      },
      "execution_count": 9,
      "outputs": [
        {
          "output_type": "stream",
          "name": "stdout",
          "text": [
            "--Sample customer data--\n",
            "   TenureMonths  MonthlyBill  SupportCalls  Churn\n",
            "0            12           50             1      0\n",
            "1            24           80             0      0\n",
            "2             5           20             5      1\n",
            "3            48          100             1      0\n",
            "4             1           25             6      1\n",
            "5            60          110             0      0\n",
            "6             8           30             2      1\n",
            "7            36           90             1      0\n",
            "8            15           60             3      0\n",
            "9             2           22             4      1\n",
            "\n",
            "\n"
          ]
        }
      ]
    },
    {
      "cell_type": "code",
      "source": [
        "#Prepare the dataset for the model\n",
        "X = df[['TenureMonths','MonthlyBill','SupportCalls']]\n",
        "#target value is y\n",
        "y = df['Churn']"
      ],
      "metadata": {
        "id": "pBeYhezYEmUH"
      },
      "execution_count": 10,
      "outputs": []
    },
    {
      "cell_type": "code",
      "source": [
        "#train the model\n",
        "X_train,X_test,y_train,y_test = train_test_split(X,y,test_size=0.3,random_state=42)"
      ],
      "metadata": {
        "id": "x0YJT2juEQFT"
      },
      "execution_count": 12,
      "outputs": []
    },
    {
      "cell_type": "code",
      "source": [
        "#crete and train the random forest model\n",
        "rf_model = RandomForestClassifier(n_estimators = 100, random_state=42)\n",
        "\n",
        "#training the model using the training data\n",
        "print(\"----Training the Random forest model ---\")\n",
        "rf_model.fit(X_train,y_train)\n",
        "print(\"Model training is completed.\\n\")\n"
      ],
      "metadata": {
        "colab": {
          "base_uri": "https://localhost:8080/"
        },
        "id": "4kvWi5XPF7Vr",
        "outputId": "e6f12c24-3699-4da2-a800-70b7a71e86a1"
      },
      "execution_count": 13,
      "outputs": [
        {
          "output_type": "stream",
          "name": "stdout",
          "text": [
            "----Training the Random forest model ---\n",
            "Model training is completed.\n",
            "\n"
          ]
        }
      ]
    },
    {
      "cell_type": "code",
      "source": [
        "#make the prediction on the test data\n",
        "print(\"Make the prediction on new(Test data)....\")\n",
        "predictions = rf_model.predict(X_test)"
      ],
      "metadata": {
        "colab": {
          "base_uri": "https://localhost:8080/"
        },
        "id": "iilFlqf9Gngm",
        "outputId": "e48eb0d0-4b2b-42c8-b624-1b322f346d07"
      },
      "execution_count": 14,
      "outputs": [
        {
          "output_type": "stream",
          "name": "stdout",
          "text": [
            "Make the prediction on new(Test data)....\n"
          ]
        }
      ]
    },
    {
      "cell_type": "code",
      "source": [
        "#Evaluate the model performance\n",
        "accuracy = accuracy_score(y_test,predictions)\n",
        "print(f\"Model Accuracy {accuracy * 100:.2f}%\")\n",
        "\n",
        "# A cunfusion matrix shows the details of correct and incorrect predictions\n",
        "print(\"\\n--- Confusion MAtrix ---\")\n",
        "cm = confusion_matrix(y_test, predictions)\n",
        "print(\"True positives | False positives\")\n",
        "print(\"False Negatives | True Negatives\")\n",
        "print(cm)\n",
        "print(\"\\nThis show how many predictions were correct and incorrect for each class\")\n",
        "\n",
        "new_customer = [[6,20,5]]\n",
        "new_prediction = rf_model.predict(new_customer)\n",
        "churn_status = \"Will Churn\" if new_prediction[0] == 1 else \"Will not churn\"\n",
        "print(f\"\\n-- Prediction for a new customer with data {new_customer} ---\")\n",
        "print(f\"Result:{churn_status}\")"
      ],
      "metadata": {
        "colab": {
          "base_uri": "https://localhost:8080/"
        },
        "id": "qMxSSc3cG6Yx",
        "outputId": "4d2bbc9d-939c-432c-8fae-086917ae4fe3"
      },
      "execution_count": 19,
      "outputs": [
        {
          "output_type": "stream",
          "name": "stdout",
          "text": [
            "Model Accuracy 100.00%\n",
            "\n",
            "--- Confusion MAtrix ---\n",
            "True positives | False positives\n",
            "False Negatives | True Negatives\n",
            "[[3]]\n",
            "\n",
            "This show how many predictions were correct and incorrect for each class\n",
            "\n",
            "-- Prediction for a new customer with data [[6, 20, 5]] ---\n",
            "Result:Will Churn\n"
          ]
        },
        {
          "output_type": "stream",
          "name": "stderr",
          "text": [
            "/usr/local/lib/python3.11/dist-packages/sklearn/metrics/_classification.py:407: UserWarning: A single label was found in 'y_true' and 'y_pred'. For the confusion matrix to have the correct shape, use the 'labels' parameter to pass all known labels.\n",
            "  warnings.warn(\n",
            "/usr/local/lib/python3.11/dist-packages/sklearn/utils/validation.py:2739: UserWarning: X does not have valid feature names, but RandomForestClassifier was fitted with feature names\n",
            "  warnings.warn(\n"
          ]
        }
      ]
    },
    {
      "cell_type": "code",
      "source": [],
      "metadata": {
        "id": "-HxvoTxvHPyR"
      },
      "execution_count": null,
      "outputs": []
    }
  ]
}