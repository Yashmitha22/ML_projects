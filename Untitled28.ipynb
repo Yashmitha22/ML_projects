{
  "nbformat": 4,
  "nbformat_minor": 0,
  "metadata": {
    "colab": {
      "provenance": [],
      "authorship_tag": "ABX9TyNaUmlIr9jNkcifoJnxkFJB",
      "include_colab_link": true
    },
    "kernelspec": {
      "name": "python3",
      "display_name": "Python 3"
    },
    "language_info": {
      "name": "python"
    }
  },
  "cells": [
    {
      "cell_type": "markdown",
      "metadata": {
        "id": "view-in-github",
        "colab_type": "text"
      },
      "source": [
        "<a href=\"https://colab.research.google.com/github/Yashmitha22/ML_projects/blob/main/Untitled28.ipynb\" target=\"_parent\"><img src=\"https://colab.research.google.com/assets/colab-badge.svg\" alt=\"Open In Colab\"/></a>"
      ]
    },
    {
      "cell_type": "code",
      "source": [
        "import re\n",
        "import nltk\n",
        "from nltk.tokenize import word_tokenize\n",
        "from nltk.corpus import stopwords\n",
        "from nltk.stem import PorterStemmer\n",
        "\n",
        "# Download necessary NLTK data packages\n",
        "nltk.download('punkt')\n",
        "nltk.download('stopwords')\n",
        "nltk.download('punkt_tab') # Download punkt_tab for sentence tokenization\n",
        "\n",
        "text = \"This is the sample text used as the example\"\n",
        "\n",
        "text = \"This is an example sentence, demonstrating word tokenization and filtering!\"\n",
        "\n",
        "# Tokenize the text\n",
        "tokens = word_tokenize(text)\n",
        "print(\"The word tokenization:\", tokens)\n",
        "\n",
        "# Filter only words with alphabetic characters\n",
        "filtered_tokens = [word for word in tokens if re.match(r\"^[A-Za-z]+$\", word)]\n",
        "print(\"The filtered words in the text:\", filtered_tokens)\n",
        "\n",
        "validation_tokens = [word for word in filtered_tokens if re.match(r\"^[A-Za-z]+$\", word)]\n",
        "print(\"The Scripter of the given word:\", validation_tokens)\n",
        "\n",
        "# Remove stopwords\n",
        "stop_words = set(stopwords.words('english'))\n",
        "tokens_without_stopwords = [word for word in validation_tokens if word.lower() not in stop_words]\n",
        "print(\"Tokens without stopwords:\", tokens_without_stopwords)\n"
      ],
      "metadata": {
        "colab": {
          "base_uri": "https://localhost:8080/"
        },
        "id": "5c_0J0JcS_oC",
        "outputId": "43417e7d-0ca2-4adf-b6ba-6e9b5a425f33"
      },
      "execution_count": 5,
      "outputs": [
        {
          "output_type": "stream",
          "name": "stderr",
          "text": [
            "[nltk_data] Downloading package punkt to /root/nltk_data...\n",
            "[nltk_data]   Package punkt is already up-to-date!\n",
            "[nltk_data] Downloading package stopwords to /root/nltk_data...\n",
            "[nltk_data]   Package stopwords is already up-to-date!\n",
            "[nltk_data] Downloading package punkt_tab to /root/nltk_data...\n"
          ]
        },
        {
          "output_type": "stream",
          "name": "stdout",
          "text": [
            "The word tokenization: ['This', 'is', 'an', 'example', 'sentence', ',', 'demonstrating', 'word', 'tokenization', 'and', 'filtering', '!']\n",
            "The filtered words in the text: ['This', 'is', 'an', 'example', 'sentence', 'demonstrating', 'word', 'tokenization', 'and', 'filtering']\n",
            "The Scripter of the given word: ['This', 'is', 'an', 'example', 'sentence', 'demonstrating', 'word', 'tokenization', 'and', 'filtering']\n",
            "Tokens without stopwords: ['example', 'sentence', 'demonstrating', 'word', 'tokenization', 'filtering']\n"
          ]
        },
        {
          "output_type": "stream",
          "name": "stderr",
          "text": [
            "[nltk_data]   Unzipping tokenizers/punkt_tab.zip.\n"
          ]
        }
      ]
    },
    {
      "cell_type": "code",
      "source": [],
      "metadata": {
        "id": "bIi8lDhSTARq"
      },
      "execution_count": null,
      "outputs": []
    }
  ]
}