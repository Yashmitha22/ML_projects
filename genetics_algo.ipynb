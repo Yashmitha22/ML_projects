{
  "nbformat": 4,
  "nbformat_minor": 0,
  "metadata": {
    "colab": {
      "provenance": [],
      "authorship_tag": "ABX9TyM5A8xIyeJcyCSTD6A3hO+D",
      "include_colab_link": true
    },
    "kernelspec": {
      "name": "python3",
      "display_name": "Python 3"
    },
    "language_info": {
      "name": "python"
    }
  },
  "cells": [
    {
      "cell_type": "markdown",
      "metadata": {
        "id": "view-in-github",
        "colab_type": "text"
      },
      "source": [
        "<a href=\"https://colab.research.google.com/github/Yashmitha22/ML_projects/blob/main/genetics_algo.ipynb\" target=\"_parent\"><img src=\"https://colab.research.google.com/assets/colab-badge.svg\" alt=\"Open In Colab\"/></a>"
      ]
    },
    {
      "cell_type": "code",
      "execution_count": 1,
      "metadata": {
        "id": "cSGb0jzNHlSR"
      },
      "outputs": [],
      "source": [
        "import random"
      ]
    },
    {
      "cell_type": "code",
      "source": [
        "#defining the function\n",
        "def fitness_function(x):\n",
        "  return x**2\n",
        ""
      ],
      "metadata": {
        "id": "f6uxZX67H5vf"
      },
      "execution_count": 2,
      "outputs": []
    },
    {
      "cell_type": "code",
      "source": [
        "#----GA parameter-----\n",
        "POPULATION_SIZE = 10\n",
        "GENE_LENGTH = 5  #5 bits to represent numbers 0-31\n",
        "MUTATION_RATE = 0.1\n",
        "NUM_GENERATIONS = 20\n"
      ],
      "metadata": {
        "id": "nUJfoZjeIdMZ"
      },
      "execution_count": 3,
      "outputs": []
    },
    {
      "cell_type": "code",
      "source": [
        "#Initilization of the first random population\n",
        "population = []\n",
        "for _ in range(POPULATION_SIZE):\n",
        "  chromosome = ''.join(random.choice(['0','1']) for _ in range(GENE_LENGTH))\n",
        "  population.append(chromosome)"
      ],
      "metadata": {
        "id": "B5zUBS58JEYh"
      },
      "execution_count": 4,
      "outputs": []
    },
    {
      "cell_type": "code",
      "source": [
        "#Main evautionary loop\n",
        "for generation in range(NUM_GENERATIONS):\n",
        "  fitness_score = []\n",
        "  for chromosome in population:\n",
        "    x = int(chromosome,2)\n",
        "    fitness = fitness_function(x)\n",
        "    fitness_score.append(fitness_function(x))"
      ],
      "metadata": {
        "id": "3n7LovknJnYl"
      },
      "execution_count": 5,
      "outputs": []
    },
    {
      "cell_type": "code",
      "source": [
        "#selection of the top two parents\n",
        "parents = sorted(zip(population,fitness_score),key=lambda x:x[1],reverse=True)[:2]\n",
        "parent1 = parents[0][0]\n",
        "parent2 = parents[1][0]"
      ],
      "metadata": {
        "id": "lLkLx0p3KZpg"
      },
      "execution_count": 9,
      "outputs": []
    },
    {
      "cell_type": "code",
      "source": [
        "#create the next generation\n",
        "next_population = [parent1,parent2]"
      ],
      "metadata": {
        "id": "VyA7_fN5LDz1"
      },
      "execution_count": 10,
      "outputs": []
    },
    {
      "cell_type": "code",
      "source": [
        "#crossover and the mutation\n",
        "for _ in range(POPULATION_SIZE - 2):\n",
        "  crossover_point = random.randint(1, GENE_LENGTH - 1)\n",
        "  child = parent1[:crossover_point] + parent2[crossover_point:]"
      ],
      "metadata": {
        "id": "nBvgIZC-LlaE"
      },
      "execution_count": 12,
      "outputs": []
    },
    {
      "cell_type": "code",
      "source": [
        "#mutation:Random flip of bits\n",
        "mutated_child = \"\"\n",
        "for bit in child:\n",
        "  if random.random() < MUTATION_RATE:\n",
        "    mutated_child += '1' if bit == '0' else '0'\n",
        "  else:\n",
        "    mutated_child += bit\n",
        "  next_population.append(mutated_child)\n",
        "  population = next_population\n"
      ],
      "metadata": {
        "id": "G26yTrBFMSXh"
      },
      "execution_count": 15,
      "outputs": []
    },
    {
      "cell_type": "code",
      "source": [
        "#Printing the best result of the current generation\n",
        "best_chromosome = parents[0][0]\n",
        "best_x = int(best_chromosome, 2)\n",
        "best_fitness = fitness_function(best_x)\n",
        "print(f\"Generation {generation+1}: Best Chromosome: {best_chromosome}, x = {best_x}, Fitness = {best_fitness}\")\n"
      ],
      "metadata": {
        "colab": {
          "base_uri": "https://localhost:8080/"
        },
        "id": "vIMzOdzWNEE1",
        "outputId": "5be92cb3-d261-4dc4-88c6-2858166138e5"
      },
      "execution_count": 16,
      "outputs": [
        {
          "output_type": "stream",
          "name": "stdout",
          "text": [
            "Generation 20: Best Chromosome: 11110, x = 30, Fitness = 900\n"
          ]
        }
      ]
    },
    {
      "cell_type": "code",
      "source": [
        "#final result\n",
        "print(\"\\nFinal best solution Found:\",best_chromosome, \"which is x =\", int(best_chromosome, 2))"
      ],
      "metadata": {
        "colab": {
          "base_uri": "https://localhost:8080/"
        },
        "id": "t0gk-_dNOAUq",
        "outputId": "1c2758fc-aaf5-4042-a9e3-346dfac9140a"
      },
      "execution_count": 17,
      "outputs": [
        {
          "output_type": "stream",
          "name": "stdout",
          "text": [
            "\n",
            "Final best solution Found: 11110 which is x = 30\n"
          ]
        }
      ]
    },
    {
      "cell_type": "code",
      "source": [],
      "metadata": {
        "id": "6ATuHtNdOSI9"
      },
      "execution_count": null,
      "outputs": []
    }
  ]
}