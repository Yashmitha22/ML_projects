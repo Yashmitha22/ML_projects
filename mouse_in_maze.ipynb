{
  "nbformat": 4,
  "nbformat_minor": 0,
  "metadata": {
    "colab": {
      "provenance": [],
      "authorship_tag": "ABX9TyNqpBDR75VMGWJm4gJqvxNS",
      "include_colab_link": true
    },
    "kernelspec": {
      "name": "python3",
      "display_name": "Python 3"
    },
    "language_info": {
      "name": "python"
    }
  },
  "cells": [
    {
      "cell_type": "markdown",
      "metadata": {
        "id": "view-in-github",
        "colab_type": "text"
      },
      "source": [
        "<a href=\"https://colab.research.google.com/github/Yashmitha22/ML_projects/blob/main/mouse_in_maze.ipynb\" target=\"_parent\"><img src=\"https://colab.research.google.com/assets/colab-badge.svg\" alt=\"Open In Colab\"/></a>"
      ]
    },
    {
      "cell_type": "code",
      "source": [
        "import numpy as np\n",
        "\n",
        "learning_rate = 0.1\n",
        "discount_factro = 0.9\n",
        "episodes = 5000\n",
        "epsilon = 0.3\n",
        "\n",
        "num_states = 9\n",
        "num_actions = 4\n",
        "\n",
        "R = np.array([\n",
        "    [-1,1,-1,3,-1,-1,-1,-1,-1,],\n",
        "    [0,-1,2,-1,4,-1,-1,-1,-1,],\n",
        "    [-1,1,-1,-1,-1,5,-1,-1,-1],\n",
        "    [0,-1,-1,-1,4,-1,6,-1,-1],\n",
        "    [-1,1,-1,3,-1,5,-1,7,-1],\n",
        "    [-1,-1,2,-1,4,-1,-1,-1,8],\n",
        "    [-1,-1,-1,3,-1,-1,-1,7,-1],\n",
        "    [-1,-1,-1,-1,4,-1,6,-1,8],\n",
        "    [-1,-1,-1,-1,-1,5,-1,7,-1]\n",
        "\n",
        "\n",
        "])"
      ],
      "metadata": {
        "id": "nqWnzzDr-JhC"
      },
      "execution_count": 8,
      "outputs": []
    },
    {
      "cell_type": "code",
      "source": [
        "rewards = {\n",
        "    4:-100,\n",
        "    8:100\n",
        "}\n",
        "\n"
      ],
      "metadata": {
        "id": "hPklTKhpORcL"
      },
      "execution_count": 10,
      "outputs": []
    },
    {
      "cell_type": "code",
      "source": [
        "q_table = np.zeros((num_states,num_actions))\n",
        "print(\"Start Q-Learning trainig\")\n",
        "\n",
        "for episode in range(episodes):\n",
        "  state = np.random.randint(0,num_states)\n",
        "  while state in [4,8]:\n",
        "    state = np.random.randint(0,num_states)\n",
        "  done = False\n",
        "\n",
        "  while not done:\n",
        "    if np.random.uniform(0,1) < epsilon:\n",
        "      possible_actions = np.where(R[state] >= 0)[0]\n",
        "      actoin = np.random.choice(possible_actions)\n",
        "    else:\n",
        "      action = np.argmax(q_table[state])\n",
        "\n",
        "    #get the next state and reward\n",
        "    next_state = R[state,action]\n",
        "    reward = -1\n",
        "\n",
        "    if next_state in rewards:\n",
        "      reward = rewards[next_state]\n",
        "      done = True\n",
        "\n",
        "    old_q_values = q_table[state,action]\n",
        "    max_future_q = np.max(q_table[next_state])\n",
        "\n",
        "    #core Q formula\n",
        "    new_q_value = old_q_values + learning_rate * (reward + discount_factro * max_future_q - old_q_values)\n",
        "    q_table[state,action] = new_q_value\n",
        "\n",
        "    state = next_state\n",
        "\n",
        "print(\"Training finished!\")\n",
        "\n",
        "\n"
      ],
      "metadata": {
        "colab": {
          "base_uri": "https://localhost:8080/",
          "height": 228
        },
        "id": "VtB1BvjFPY98",
        "outputId": "63ded6ce-ba96-4413-c607-40f9301cec4d"
      },
      "execution_count": 12,
      "outputs": [
        {
          "metadata": {
            "tags": null
          },
          "name": "stdout",
          "output_type": "stream",
          "text": [
            "Start Q-Learning trainig\n"
          ]
        },
        {
          "output_type": "error",
          "ename": "KeyboardInterrupt",
          "evalue": "",
          "traceback": [
            "\u001b[0;31m---------------------------------------------------------------------------\u001b[0m",
            "\u001b[0;31mKeyboardInterrupt\u001b[0m                         Traceback (most recent call last)",
            "\u001b[0;32m/tmp/ipython-input-2710715916.py\u001b[0m in \u001b[0;36m<cell line: 0>\u001b[0;34m()\u001b[0m\n\u001b[1;32m      9\u001b[0m \u001b[0;34m\u001b[0m\u001b[0m\n\u001b[1;32m     10\u001b[0m   \u001b[0;32mwhile\u001b[0m \u001b[0;32mnot\u001b[0m \u001b[0mdone\u001b[0m\u001b[0;34m:\u001b[0m\u001b[0;34m\u001b[0m\u001b[0;34m\u001b[0m\u001b[0m\n\u001b[0;32m---> 11\u001b[0;31m     \u001b[0;32mif\u001b[0m \u001b[0mnp\u001b[0m\u001b[0;34m.\u001b[0m\u001b[0mrandom\u001b[0m\u001b[0;34m.\u001b[0m\u001b[0muniform\u001b[0m\u001b[0;34m(\u001b[0m\u001b[0;36m0\u001b[0m\u001b[0;34m,\u001b[0m\u001b[0;36m1\u001b[0m\u001b[0;34m)\u001b[0m \u001b[0;34m<\u001b[0m \u001b[0mepsilon\u001b[0m\u001b[0;34m:\u001b[0m\u001b[0;34m\u001b[0m\u001b[0;34m\u001b[0m\u001b[0m\n\u001b[0m\u001b[1;32m     12\u001b[0m       \u001b[0mpossible_actions\u001b[0m \u001b[0;34m=\u001b[0m \u001b[0mnp\u001b[0m\u001b[0;34m.\u001b[0m\u001b[0mwhere\u001b[0m\u001b[0;34m(\u001b[0m\u001b[0mR\u001b[0m\u001b[0;34m[\u001b[0m\u001b[0mstate\u001b[0m\u001b[0;34m]\u001b[0m \u001b[0;34m>=\u001b[0m \u001b[0;36m0\u001b[0m\u001b[0;34m)\u001b[0m\u001b[0;34m[\u001b[0m\u001b[0;36m0\u001b[0m\u001b[0;34m]\u001b[0m\u001b[0;34m\u001b[0m\u001b[0;34m\u001b[0m\u001b[0m\n\u001b[1;32m     13\u001b[0m       \u001b[0mactoin\u001b[0m \u001b[0;34m=\u001b[0m \u001b[0mnp\u001b[0m\u001b[0;34m.\u001b[0m\u001b[0mrandom\u001b[0m\u001b[0;34m.\u001b[0m\u001b[0mchoice\u001b[0m\u001b[0;34m(\u001b[0m\u001b[0mpossible_actions\u001b[0m\u001b[0;34m)\u001b[0m\u001b[0;34m\u001b[0m\u001b[0;34m\u001b[0m\u001b[0m\n",
            "\u001b[0;31mKeyboardInterrupt\u001b[0m: "
          ]
        }
      ]
    },
    {
      "cell_type": "code",
      "source": [
        "print(\"Final Q table:\")\n",
        "print(np.round(q_table,2))\n",
        "print(\"\\n-----------------------------\\n\")\n",
        "\n",
        "print(\"optimal path from state 0 to cheese (State 8):\")\n",
        "state = 0\n",
        "path = [state]\n",
        "while state != 8:\n",
        "  action = np.argmax(q_table[state])\n",
        "  next_state = -1\n",
        "  if action == 0:\n",
        "    next_state = state - 3\n",
        "  elif action == 1:\n",
        "    next_state = state + 3\n",
        "  elif action == 2:\n",
        "    next_state = state - 1\n",
        "  elif action == 3:\n",
        "    next_state = state + 1\n",
        "\n",
        "  if next_state == state or next_state in path:\n",
        "    break\n",
        "\n",
        "  path.append(state)\n",
        "  state = next_state\n",
        "  path.append(state)\n",
        "\n",
        "print(\"->\".join(map(str,path)))\n",
        "print(\"Mouse found the cheese!!\")\n",
        "\n",
        "\n",
        "print(path)"
      ],
      "metadata": {
        "colab": {
          "base_uri": "https://localhost:8080/"
        },
        "id": "h3j1E2sfULpM",
        "outputId": "a069740f-b64b-4b1e-e904-aac96723680b"
      },
      "execution_count": 13,
      "outputs": [
        {
          "output_type": "stream",
          "name": "stdout",
          "text": [
            "Final Q table:\n",
            "[[ -0.1   0.    0.    0. ]\n",
            " [ -0.1   0.    0.    0. ]\n",
            " [  0.    0.    0.    0. ]\n",
            " [  0.    0.    0.    0. ]\n",
            " [  0.    0.    0.    0. ]\n",
            " [  0.    0.    0.    0. ]\n",
            " [  0.    0.    0.    0. ]\n",
            " [  0.    0.    0.    0. ]\n",
            " [-10.  -10.  -10.  -10. ]]\n",
            "\n",
            "-----------------------------\n",
            "\n",
            "optimal path from state 0 to cheese (State 8):\n",
            "0->0->3\n",
            "Mouse found the cheese!!\n",
            "[0, 0, 3]\n"
          ]
        }
      ]
    },
    {
      "cell_type": "code",
      "source": [],
      "metadata": {
        "id": "o1bIYrSrU9qz"
      },
      "execution_count": null,
      "outputs": []
    }
  ]
}